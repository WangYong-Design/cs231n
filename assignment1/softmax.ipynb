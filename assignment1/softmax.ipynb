{
 "cells": [
  {
   "cell_type": "markdown",
   "metadata": {
    "tags": [
     "pdf-title"
    ]
   },
   "source": [
    "# Softmax exercise\n",
    "\n",
    "*Complete and hand in this completed worksheet (including its outputs and any supporting code outside of the worksheet) with your assignment submission. For more details see the [assignments page](http://vision.stanford.edu/teaching/cs231n/assignments.html) on the course website.*\n",
    "\n",
    "This exercise is analogous to the SVM exercise. You will:\n",
    "\n",
    "- implement a fully-vectorized **loss function** for the Softmax classifier\n",
    "- implement the fully-vectorized expression for its **analytic gradient**\n",
    "- **check your implementation** with numerical gradient\n",
    "- use a validation set to **tune the learning rate and regularization** strength\n",
    "- **optimize** the loss function with **SGD**\n",
    "- **visualize** the final learned weights\n"
   ]
  },
  {
   "cell_type": "code",
   "execution_count": 1,
   "metadata": {
    "tags": [
     "pdf-ignore"
    ]
   },
   "outputs": [],
   "source": [
    "import random\n",
    "import numpy as np\n",
    "from cs231n.data_utils import load_CIFAR10\n",
    "import matplotlib.pyplot as plt\n",
    "\n",
    "%matplotlib inline\n",
    "plt.rcParams['figure.figsize'] = (10.0, 8.0) # set default size of plots\n",
    "plt.rcParams['image.interpolation'] = 'nearest'\n",
    "plt.rcParams['image.cmap'] = 'gray'\n",
    "\n",
    "# for auto-reloading extenrnal modules\n",
    "# see http://stackoverflow.com/questions/1907993/autoreload-of-modules-in-ipython\n",
    "%load_ext autoreload\n",
    "%autoreload 2"
   ]
  },
  {
   "cell_type": "code",
   "execution_count": 2,
   "metadata": {
    "tags": [
     "pdf-ignore"
    ]
   },
   "outputs": [
    {
     "name": "stdout",
     "output_type": "stream",
     "text": [
      "Train data shape:  (49000, 3073)\n",
      "Train labels shape:  (49000,)\n",
      "Validation data shape:  (1000, 3073)\n",
      "Validation labels shape:  (1000,)\n",
      "Test data shape:  (1000, 3073)\n",
      "Test labels shape:  (1000,)\n",
      "dev data shape:  (500, 3073)\n",
      "dev labels shape:  (500,)\n"
     ]
    }
   ],
   "source": [
    "def get_CIFAR10_data(num_training=49000, num_validation=1000, num_test=1000, num_dev=500):\n",
    "    \"\"\"\n",
    "    Load the CIFAR-10 dataset from disk and perform preprocessing to prepare\n",
    "    it for the linear classifier. These are the same steps as we used for the\n",
    "    SVM, but condensed to a single function.  \n",
    "    \"\"\"\n",
    "    # Load the raw CIFAR-10 data\n",
    "    cifar10_dir = './cs231n/datasets/cifar-10-batches-py'\n",
    "    \n",
    "    # Cleaning up variables to prevent loading data multiple times (which may cause memory issue)\n",
    "    try:\n",
    "       del X_train, y_train\n",
    "       del X_test, y_test\n",
    "       print('Clear previously loaded data.')\n",
    "    except:\n",
    "       pass\n",
    "\n",
    "    X_train, y_train, X_test, y_test = load_CIFAR10(cifar10_dir)\n",
    "    \n",
    "    # subsample the data\n",
    "    mask = list(range(num_training, num_training + num_validation))\n",
    "    X_val = X_train[mask]\n",
    "    y_val = y_train[mask]\n",
    "    mask = list(range(num_training))\n",
    "    X_train = X_train[mask]\n",
    "    y_train = y_train[mask]\n",
    "    mask = list(range(num_test))\n",
    "    X_test = X_test[mask]\n",
    "    y_test = y_test[mask]\n",
    "    mask = np.random.choice(num_training, num_dev, replace=False)\n",
    "    X_dev = X_train[mask]\n",
    "    y_dev = y_train[mask]\n",
    "    \n",
    "    # Preprocessing: reshape the image data into rows\n",
    "    X_train = np.reshape(X_train, (X_train.shape[0], -1))\n",
    "    X_val = np.reshape(X_val, (X_val.shape[0], -1))\n",
    "    X_test = np.reshape(X_test, (X_test.shape[0], -1))\n",
    "    X_dev = np.reshape(X_dev, (X_dev.shape[0], -1))\n",
    "    \n",
    "    # Normalize the data: subtract the mean image\n",
    "    mean_image = np.mean(X_train, axis = 0)\n",
    "    X_train -= mean_image\n",
    "    X_val -= mean_image\n",
    "    X_test -= mean_image\n",
    "    X_dev -= mean_image\n",
    "    \n",
    "    # add bias dimension and transform into columns\n",
    "    X_train = np.hstack([X_train, np.ones((X_train.shape[0], 1))])\n",
    "    X_val = np.hstack([X_val, np.ones((X_val.shape[0], 1))])\n",
    "    X_test = np.hstack([X_test, np.ones((X_test.shape[0], 1))])\n",
    "    X_dev = np.hstack([X_dev, np.ones((X_dev.shape[0], 1))])\n",
    "    \n",
    "    return X_train, y_train, X_val, y_val, X_test, y_test, X_dev, y_dev\n",
    "\n",
    "\n",
    "# Invoke the above function to get our data.\n",
    "X_train, y_train, X_val, y_val, X_test, y_test, X_dev, y_dev = get_CIFAR10_data()\n",
    "print('Train data shape: ', X_train.shape)\n",
    "print('Train labels shape: ', y_train.shape)\n",
    "print('Validation data shape: ', X_val.shape)\n",
    "print('Validation labels shape: ', y_val.shape)\n",
    "print('Test data shape: ', X_test.shape)\n",
    "print('Test labels shape: ', y_test.shape)\n",
    "print('dev data shape: ', X_dev.shape)\n",
    "print('dev labels shape: ', y_dev.shape)"
   ]
  },
  {
   "cell_type": "markdown",
   "metadata": {},
   "source": [
    "## Softmax Classifier\n",
    "\n",
    "Your code for this section will all be written inside `cs231n/classifiers/softmax.py`.\n"
   ]
  },
  {
   "cell_type": "code",
   "execution_count": 4,
   "metadata": {},
   "outputs": [
    {
     "name": "stdout",
     "output_type": "stream",
     "text": [
      "loss: 2.348244\n",
      "sanity check: 2.302585\n"
     ]
    }
   ],
   "source": [
    "# First implement the naive softmax loss function with nested loops.\n",
    "# Open the file cs231n/classifiers/softmax.py and implement the\n",
    "# softmax_loss_naive function.\n",
    "\n",
    "from cs231n.classifiers.softmax import softmax_loss_naive\n",
    "import time\n",
    "\n",
    "# Generate a random softmax weight matrix and use it to compute the loss.\n",
    "W = np.random.randn(3073, 10) * 0.0001\n",
    "loss, grad = softmax_loss_naive(W, X_dev, y_dev, 0.0)\n",
    "\n",
    "# As a rough sanity check, our loss should be something close to -log(0.1).\n",
    "print('loss: %f' % loss)\n",
    "print('sanity check: %f' % (-np.log(0.1)))"
   ]
  },
  {
   "cell_type": "markdown",
   "metadata": {
    "tags": [
     "pdf-inline"
    ]
   },
   "source": [
    "**Inline Question 1**\n",
    "\n",
    "Why do we expect our loss to be close to -log(0.1)? Explain briefly.**\n",
    "\n",
    "$\\color{blue}{\\textit Your Answer:}$ *Fill this in* \n",
    "\n"
   ]
  },
  {
   "cell_type": "code",
   "execution_count": 5,
   "metadata": {},
   "outputs": [
    {
     "name": "stdout",
     "output_type": "stream",
     "text": [
      "numerical: -0.414455 analytic: -0.414455, relative error: 3.955357e-08\n",
      "numerical: 0.012926 analytic: 0.012926, relative error: 1.089146e-06\n",
      "numerical: 1.366258 analytic: 1.366258, relative error: 2.077998e-08\n",
      "numerical: 3.297381 analytic: 3.297381, relative error: 1.964048e-08\n",
      "numerical: -0.155960 analytic: -0.155960, relative error: 2.406958e-07\n",
      "numerical: 0.118675 analytic: 0.118675, relative error: 4.299461e-07\n",
      "numerical: -0.228238 analytic: -0.228238, relative error: 6.629517e-08\n",
      "numerical: 0.543914 analytic: 0.543914, relative error: 4.829502e-08\n",
      "numerical: -0.954041 analytic: -0.954041, relative error: 2.128279e-08\n",
      "numerical: 0.295061 analytic: 0.295061, relative error: 1.750403e-07\n",
      "numerical: -2.366216 analytic: -2.366216, relative error: 7.417059e-09\n",
      "numerical: -0.196822 analytic: -0.196822, relative error: 7.991296e-08\n",
      "numerical: -0.361026 analytic: -0.361026, relative error: 9.210077e-08\n",
      "numerical: 0.105266 analytic: 0.105266, relative error: 4.013948e-07\n",
      "numerical: -2.790967 analytic: -2.790967, relative error: 1.588866e-08\n",
      "numerical: -0.740931 analytic: -0.740931, relative error: 6.055057e-08\n",
      "numerical: -0.427961 analytic: -0.427961, relative error: 3.628446e-08\n",
      "numerical: -2.263247 analytic: -2.263247, relative error: 3.213786e-08\n",
      "numerical: -1.585174 analytic: -1.585175, relative error: 1.241668e-08\n",
      "numerical: 0.635008 analytic: 0.635008, relative error: 1.164630e-07\n"
     ]
    }
   ],
   "source": [
    "# Complete the implementation of softmax_loss_naive and implement a (naive)\n",
    "# version of the gradient that uses nested loops.\n",
    "loss, grad = softmax_loss_naive(W, X_dev, y_dev, 0.0)\n",
    "\n",
    "# As we did for the SVM, use numeric gradient checking as a debugging tool.\n",
    "# The numeric gradient should be close to the analytic gradient.\n",
    "from cs231n.gradient_check import grad_check_sparse\n",
    "f = lambda w: softmax_loss_naive(w, X_dev, y_dev, 0.0)[0]\n",
    "grad_numerical = grad_check_sparse(f, W, grad, 10)\n",
    "\n",
    "# similar to SVM case, do another gradient check with regularization\n",
    "loss, grad = softmax_loss_naive(W, X_dev, y_dev, 5e1)\n",
    "f = lambda w: softmax_loss_naive(w, X_dev, y_dev, 5e1)[0]\n",
    "grad_numerical = grad_check_sparse(f, W, grad, 10)\n"
   ]
  },
  {
   "cell_type": "code",
   "execution_count": 26,
   "metadata": {},
   "outputs": [
    {
     "name": "stdout",
     "output_type": "stream",
     "text": [
      "naive loss: 2.348244e+00 computed in 0.068228s\n",
      "[[0.12784634 0.05740402 0.09084722 ... 0.0716077  0.21628953 0.05846238]\n",
      " [0.09598241 0.09443683 0.16065908 ... 0.07933156 0.11155466 0.06843379]\n",
      " [0.08111258 0.09386897 0.10899842 ... 0.09067993 0.06804986 0.15996402]\n",
      " ...\n",
      " [0.10243784 0.10409109 0.09578817 ... 0.14608434 0.09952863 0.10887549]\n",
      " [0.09393977 0.06727655 0.10081367 ... 0.08269568 0.17129386 0.0617291 ]\n",
      " [0.06851715 0.09488317 0.16469819 ... 0.16674315 0.0436049  0.1001038 ]]\n",
      "vectorized loss: 2.348244e+00 computed in 0.005965s\n",
      "Loss difference: 0.000000\n",
      "Gradient difference: 0.000000\n"
     ]
    }
   ],
   "source": [
    "# Now that we have a naive implementation of the softmax loss function and its gradient,\n",
    "# implement a vectorized version in softmax_loss_vectorized.\n",
    "# The two versions should compute the same results, but the vectorized version should be\n",
    "# much faster.\n",
    "tic = time.time()\n",
    "loss_naive, grad_naive = softmax_loss_naive(W, X_dev, y_dev, 0.000005)\n",
    "toc = time.time()\n",
    "print('naive loss: %e computed in %fs' % (loss_naive, toc - tic))\n",
    "\n",
    "from cs231n.classifiers.softmax import softmax_loss_vectorized\n",
    "tic = time.time()\n",
    "loss_vectorized, grad_vectorized = softmax_loss_vectorized(W, X_dev, y_dev, 0.000005)\n",
    "toc = time.time()\n",
    "print('vectorized loss: %e computed in %fs' % (loss_vectorized, toc - tic))\n",
    "\n",
    "# As we did for the SVM, we use the Frobenius norm to compare the two versions\n",
    "# of the gradient.\n",
    "grad_difference = np.linalg.norm(grad_naive - grad_vectorized, ord='fro')\n",
    "print('Loss difference: %f' % np.abs(loss_naive - loss_vectorized))\n",
    "print('Gradient difference: %f' % grad_difference)"
   ]
  },
  {
   "cell_type": "code",
   "execution_count": 37,
   "metadata": {
    "id": "tuning",
    "tags": [
     "code"
    ]
   },
   "outputs": [
    {
     "name": "stdout",
     "output_type": "stream",
     "text": [
      "lr 5.000000e-08 rg 5.000000e+03 train accuracy : 0.250102 val accuracy 0.256000\n",
      "lr 5.000000e-08 rg 7.571429e+04 train accuracy : 0.251082 val accuracy 0.263000\n",
      "lr 5.000000e-08 rg 1.464286e+05 train accuracy : 0.254204 val accuracy 0.265000\n",
      "lr 5.000000e-08 rg 2.171429e+05 train accuracy : 0.257918 val accuracy 0.273000\n",
      "lr 5.000000e-08 rg 2.878571e+05 train accuracy : 0.267837 val accuracy 0.278000\n",
      "lr 5.000000e-08 rg 3.585714e+05 train accuracy : 0.251347 val accuracy 0.270000\n",
      "lr 5.000000e-08 rg 4.292857e+05 train accuracy : 0.260837 val accuracy 0.265000\n",
      "lr 5.000000e-08 rg 5.000000e+05 train accuracy : 0.263000 val accuracy 0.273000\n",
      "lr 1.287500e-06 rg 5.000000e+03 train accuracy : 0.360347 val accuracy 0.370000\n",
      "lr 1.287500e-06 rg 7.571429e+04 train accuracy : 0.288878 val accuracy 0.307000\n",
      "lr 1.287500e-06 rg 1.464286e+05 train accuracy : 0.254857 val accuracy 0.266000\n",
      "lr 1.287500e-06 rg 2.171429e+05 train accuracy : 0.221837 val accuracy 0.225000\n",
      "lr 1.287500e-06 rg 2.878571e+05 train accuracy : 0.252286 val accuracy 0.250000\n",
      "lr 1.287500e-06 rg 3.585714e+05 train accuracy : 0.195571 val accuracy 0.203000\n",
      "lr 1.287500e-06 rg 4.292857e+05 train accuracy : 0.194143 val accuracy 0.187000\n",
      "lr 1.287500e-06 rg 5.000000e+05 train accuracy : 0.201510 val accuracy 0.205000\n",
      "lr 2.525000e-06 rg 5.000000e+03 train accuracy : 0.349796 val accuracy 0.363000\n",
      "lr 2.525000e-06 rg 7.571429e+04 train accuracy : 0.248184 val accuracy 0.257000\n",
      "lr 2.525000e-06 rg 1.464286e+05 train accuracy : 0.191592 val accuracy 0.196000\n",
      "lr 2.525000e-06 rg 2.171429e+05 train accuracy : 0.124755 val accuracy 0.139000\n",
      "lr 2.525000e-06 rg 2.878571e+05 train accuracy : 0.142796 val accuracy 0.138000\n",
      "lr 2.525000e-06 rg 3.585714e+05 train accuracy : 0.068796 val accuracy 0.086000\n",
      "lr 2.525000e-06 rg 4.292857e+05 train accuracy : 0.054245 val accuracy 0.045000\n",
      "lr 2.525000e-06 rg 5.000000e+05 train accuracy : 0.076735 val accuracy 0.073000\n",
      "lr 3.762500e-06 rg 5.000000e+03 train accuracy : 0.331163 val accuracy 0.327000\n",
      "lr 3.762500e-06 rg 7.571429e+04 train accuracy : 0.222796 val accuracy 0.217000\n",
      "lr 3.762500e-06 rg 1.464286e+05 train accuracy : 0.073122 val accuracy 0.082000\n",
      "lr 3.762500e-06 rg 2.171429e+05 train accuracy : 0.055469 val accuracy 0.049000\n",
      "lr 3.762500e-06 rg 2.878571e+05 train accuracy : 0.054816 val accuracy 0.047000\n",
      "lr 3.762500e-06 rg 3.585714e+05 train accuracy : 0.055367 val accuracy 0.044000\n",
      "lr 3.762500e-06 rg 4.292857e+05 train accuracy : 0.056306 val accuracy 0.049000\n",
      "lr 3.762500e-06 rg 5.000000e+05 train accuracy : 0.062469 val accuracy 0.058000\n",
      "lr 5.000000e-06 rg 5.000000e+03 train accuracy : 0.267184 val accuracy 0.264000\n",
      "lr 5.000000e-06 rg 7.571429e+04 train accuracy : 0.088490 val accuracy 0.065000\n",
      "lr 5.000000e-06 rg 1.464286e+05 train accuracy : 0.064082 val accuracy 0.056000\n",
      "lr 5.000000e-06 rg 2.171429e+05 train accuracy : 0.051143 val accuracy 0.042000\n",
      "lr 5.000000e-06 rg 2.878571e+05 train accuracy : 0.054939 val accuracy 0.057000\n",
      "lr 5.000000e-06 rg 3.585714e+05 train accuracy : 0.052327 val accuracy 0.052000\n",
      "lr 5.000000e-06 rg 4.292857e+05 train accuracy : 0.094429 val accuracy 0.105000\n",
      "lr 5.000000e-06 rg 5.000000e+05 train accuracy : 0.086612 val accuracy 0.083000\n",
      "lr 5.000000e-08 reg 5.000000e+03 train accuracy: 0.250102 val accuracy: 0.256000\n",
      "lr 5.000000e-08 reg 7.571429e+04 train accuracy: 0.251082 val accuracy: 0.263000\n",
      "lr 5.000000e-08 reg 1.464286e+05 train accuracy: 0.254204 val accuracy: 0.265000\n",
      "lr 5.000000e-08 reg 2.171429e+05 train accuracy: 0.257918 val accuracy: 0.273000\n",
      "lr 5.000000e-08 reg 2.878571e+05 train accuracy: 0.267837 val accuracy: 0.278000\n",
      "lr 5.000000e-08 reg 3.585714e+05 train accuracy: 0.251347 val accuracy: 0.270000\n",
      "lr 5.000000e-08 reg 4.292857e+05 train accuracy: 0.260837 val accuracy: 0.265000\n",
      "lr 5.000000e-08 reg 5.000000e+05 train accuracy: 0.263000 val accuracy: 0.273000\n",
      "lr 1.287500e-06 reg 5.000000e+03 train accuracy: 0.360347 val accuracy: 0.370000\n",
      "lr 1.287500e-06 reg 7.571429e+04 train accuracy: 0.288878 val accuracy: 0.307000\n",
      "lr 1.287500e-06 reg 1.464286e+05 train accuracy: 0.254857 val accuracy: 0.266000\n",
      "lr 1.287500e-06 reg 2.171429e+05 train accuracy: 0.221837 val accuracy: 0.225000\n",
      "lr 1.287500e-06 reg 2.878571e+05 train accuracy: 0.252286 val accuracy: 0.250000\n",
      "lr 1.287500e-06 reg 3.585714e+05 train accuracy: 0.195571 val accuracy: 0.203000\n",
      "lr 1.287500e-06 reg 4.292857e+05 train accuracy: 0.194143 val accuracy: 0.187000\n",
      "lr 1.287500e-06 reg 5.000000e+05 train accuracy: 0.201510 val accuracy: 0.205000\n",
      "lr 2.525000e-06 reg 5.000000e+03 train accuracy: 0.349796 val accuracy: 0.363000\n",
      "lr 2.525000e-06 reg 7.571429e+04 train accuracy: 0.248184 val accuracy: 0.257000\n",
      "lr 2.525000e-06 reg 1.464286e+05 train accuracy: 0.191592 val accuracy: 0.196000\n",
      "lr 2.525000e-06 reg 2.171429e+05 train accuracy: 0.124755 val accuracy: 0.139000\n",
      "lr 2.525000e-06 reg 2.878571e+05 train accuracy: 0.142796 val accuracy: 0.138000\n",
      "lr 2.525000e-06 reg 3.585714e+05 train accuracy: 0.068796 val accuracy: 0.086000\n",
      "lr 2.525000e-06 reg 4.292857e+05 train accuracy: 0.054245 val accuracy: 0.045000\n",
      "lr 2.525000e-06 reg 5.000000e+05 train accuracy: 0.076735 val accuracy: 0.073000\n",
      "lr 3.762500e-06 reg 5.000000e+03 train accuracy: 0.331163 val accuracy: 0.327000\n",
      "lr 3.762500e-06 reg 7.571429e+04 train accuracy: 0.222796 val accuracy: 0.217000\n",
      "lr 3.762500e-06 reg 1.464286e+05 train accuracy: 0.073122 val accuracy: 0.082000\n",
      "lr 3.762500e-06 reg 2.171429e+05 train accuracy: 0.055469 val accuracy: 0.049000\n",
      "lr 3.762500e-06 reg 2.878571e+05 train accuracy: 0.054816 val accuracy: 0.047000\n",
      "lr 3.762500e-06 reg 3.585714e+05 train accuracy: 0.055367 val accuracy: 0.044000\n",
      "lr 3.762500e-06 reg 4.292857e+05 train accuracy: 0.056306 val accuracy: 0.049000\n",
      "lr 3.762500e-06 reg 5.000000e+05 train accuracy: 0.062469 val accuracy: 0.058000\n",
      "lr 5.000000e-06 reg 5.000000e+03 train accuracy: 0.267184 val accuracy: 0.264000\n",
      "lr 5.000000e-06 reg 7.571429e+04 train accuracy: 0.088490 val accuracy: 0.065000\n",
      "lr 5.000000e-06 reg 1.464286e+05 train accuracy: 0.064082 val accuracy: 0.056000\n",
      "lr 5.000000e-06 reg 2.171429e+05 train accuracy: 0.051143 val accuracy: 0.042000\n",
      "lr 5.000000e-06 reg 2.878571e+05 train accuracy: 0.054939 val accuracy: 0.057000\n",
      "lr 5.000000e-06 reg 3.585714e+05 train accuracy: 0.052327 val accuracy: 0.052000\n",
      "lr 5.000000e-06 reg 4.292857e+05 train accuracy: 0.094429 val accuracy: 0.105000\n",
      "lr 5.000000e-06 reg 5.000000e+05 train accuracy: 0.086612 val accuracy: 0.083000\n",
      "best validation accuracy achieved during cross-validation: 0.370000\n"
     ]
    }
   ],
   "source": [
    "# Use the validation set to tune hyperparameters (regularization strength and\n",
    "# learning rate). You should experiment with different ranges for the learning\n",
    "# rates and regularization strengths; if you are careful you should be able to\n",
    "# get a classification accuracy of over 0.35 on the validation set.\n",
    "\n",
    "from cs231n.classifiers.linear_classifier import Softmax\n",
    "results = {}\n",
    "best_val = -1\n",
    "best_softmax = None\n",
    "\n",
    "################################################################################\n",
    "# TODO:                                                                        #\n",
    "# Use the validation set to set the learning rate and regularization strength. #\n",
    "# This should be identical to the validation that you did for the SVM; save    #\n",
    "# the best trained softmax classifer in best_softmax.                          #\n",
    "################################################################################\n",
    "\n",
    "# Provided as a reference. You may or may not want to change these hyperparameters\n",
    "learning_rate = [5e-8,5e-6]\n",
    "regularization_strength = [5e3,5e5]\n",
    "\n",
    "for lr in np.linspace(learning_rate[0],learning_rate[1],5):\n",
    "    for reg in np.linspace(regularization_strength[0],regularization_strength[1],8):\n",
    "        classifier = Softmax()\n",
    "        loss_history = classifier.train(X_train,y_train,learning_rate = lr,reg = reg)\n",
    "        y_train_pred = classifier.predict(X_train)\n",
    "        y_val_pred = classifier.predict(X_val)\n",
    "\n",
    "        train_acc = np.mean(y_train == y_train_pred)\n",
    "        val_acc = np.mean(y_val == y_val_pred)\n",
    "\n",
    "        print('lr %e rg %e train accuracy : %f val accuracy %f'%(lr,reg,train_acc,val_acc))\n",
    "\n",
    "        results[(lr,reg)] = (train_acc,val_acc)\n",
    "\n",
    "        # print('lr %e rg %e train accuracy : %f val accuracy %f'%(lr,reg,train_acc,val_acc))\n",
    "\n",
    "        if val_acc >best_val:\n",
    "            best_val = val_acc\n",
    "            best_softmax = classifier\n",
    "\n",
    "# Print out results.\n",
    "for lr, reg in sorted(results):\n",
    "    train_accuracy, val_accuracy = results[(lr, reg)]\n",
    "    print('lr %e reg %e train accuracy: %f val accuracy: %f' % (\n",
    "                lr, reg, train_accuracy, val_accuracy))\n",
    "    \n",
    "print('best validation accuracy achieved during cross-validation: %f' % best_val)"
   ]
  },
  {
   "cell_type": "code",
   "execution_count": 38,
   "metadata": {
    "id": "test"
   },
   "outputs": [
    {
     "name": "stdout",
     "output_type": "stream",
     "text": [
      "softmax on raw pixels final test set accuracy: 0.361000\n"
     ]
    }
   ],
   "source": [
    "# evaluate on test set\n",
    "# Evaluate the best softmax on test set\n",
    "y_test_pred = best_softmax.predict(X_test)\n",
    "test_accuracy = np.mean(y_test == y_test_pred)\n",
    "print('softmax on raw pixels final test set accuracy: %f' % (test_accuracy, ))"
   ]
  },
  {
   "cell_type": "markdown",
   "metadata": {
    "tags": [
     "pdf-inline"
    ]
   },
   "source": [
    "**Inline Question 2** - *True or False*\n",
    "\n",
    "Suppose the overall training loss is defined as the sum of the per-datapoint loss over all training examples. It is possible to add a new datapoint to a training set that would leave the SVM loss unchanged, but this is not the case with the Softmax classifier loss.\n",
    "\n",
    "$\\color{blue}{\\textit Your Answer:}$\n",
    "\n",
    "\n",
    "$\\color{blue}{\\textit Your Explanation:}$\n",
    "\n"
   ]
  },
  {
   "cell_type": "code",
   "execution_count": 39,
   "metadata": {},
   "outputs": [
    {
     "data": {
      "text/plain": "<Figure size 720x576 with 10 Axes>",
      "image/png": "[encoded data removed]"
     },
     "metadata": {
      "needs_background": "light"
     },
     "output_type": "display_data"
    }
   ],
   "source": [
    "# Visualize the learned weights for each class\n",
    "w = best_softmax.W[:-1,:] # strip out the bias\n",
    "w = w.reshape(32, 32, 3, 10)\n",
    "\n",
    "w_min, w_max = np.min(w), np.max(w)\n",
    "\n",
    "classes = ['plane', 'car', 'bird', 'cat', 'deer', 'dog', 'frog', 'horse', 'ship', 'truck']\n",
    "for i in range(10):\n",
    "    plt.subplot(2, 5, i + 1)\n",
    "    \n",
    "    # Rescale the weights to be between 0 and 255\n",
    "    wimg = 255.0 * (w[:, :, :, i].squeeze() - w_min) / (w_max - w_min)\n",
    "    plt.imshow(wimg.astype('uint8'))\n",
    "    plt.axis('off')\n",
    "    plt.title(classes[i])"
   ]
  },
  {
   "cell_type": "code",
   "execution_count": null,
   "metadata": {},
   "outputs": [],
   "source": []
  }
 ],
 "metadata": {
  "kernelspec": {
   "name": "python3",
   "language": "python",
   "display_name": "Python 3 (ipykernel)"
  }
 },
 "nbformat": 4,
 "nbformat_minor": 4
}